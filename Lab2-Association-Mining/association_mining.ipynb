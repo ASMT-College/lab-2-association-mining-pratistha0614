{
 "cells": [
  {
   "cell_type": "code",
   "execution_count": 1,
   "id": "d7208c92",
   "metadata": {},
   "outputs": [
    {
     "name": "stdout",
     "output_type": "stream",
     "text": [
      "One-Hot Encoded Data:\n",
      "    Bread  Milk  Diaper  Beer  Eggs  Coke\n",
      "0    1.0   1.0     0.0   0.0   0.0   0.0\n",
      "1    1.0   0.0     1.0   1.0   1.0   0.0\n",
      "2    0.0   1.0     1.0   1.0   0.0   1.0\n",
      "3    1.0   1.0     1.0   1.0   0.0   0.0\n",
      "4    1.0   1.0     1.0   0.0   0.0   1.0\n",
      "\n",
      "Frequent Itemsets:\n",
      "    support         itemsets\n",
      "0      0.8          (Bread)\n",
      "1      0.8           (Milk)\n",
      "2      0.8         (Diaper)\n",
      "3      0.6           (Beer)\n",
      "4      0.6    (Milk, Bread)\n",
      "5      0.6  (Bread, Diaper)\n",
      "6      0.6   (Milk, Diaper)\n",
      "7      0.6   (Diaper, Beer)\n",
      "\n",
      "Association Rules:\n",
      "   antecedents consequents  support  confidence    lift\n",
      "0      (Milk)     (Bread)      0.6        0.75  0.9375\n",
      "1     (Bread)      (Milk)      0.6        0.75  0.9375\n",
      "2     (Bread)    (Diaper)      0.6        0.75  0.9375\n",
      "3    (Diaper)     (Bread)      0.6        0.75  0.9375\n",
      "4      (Milk)    (Diaper)      0.6        0.75  0.9375\n",
      "5    (Diaper)      (Milk)      0.6        0.75  0.9375\n",
      "6    (Diaper)      (Beer)      0.6        0.75  1.2500\n",
      "7      (Beer)    (Diaper)      0.6        1.00  1.2500\n"
     ]
    },
    {
     "name": "stderr",
     "output_type": "stream",
     "text": [
      "c:\\Users\\ASUS\\AppData\\Local\\Programs\\Python\\Python312\\Lib\\site-packages\\mlxtend\\frequent_patterns\\fpcommon.py:161: DeprecationWarning: DataFrames with non-bool types result in worse computationalperformance and their support might be discontinued in the future.Please use a DataFrame with bool type\n",
      "  warnings.warn(\n"
     ]
    }
   ],
   "source": [
    "import pandas as pd\n",
    "from mlxtend.frequent_patterns import apriori, association_rules\n",
    "\n",
    "# Sample transactions\n",
    "data = {\n",
    "    'TransactionID': [1, 2, 3, 4, 5],\n",
    "    'Items': [\n",
    "        ['Bread', 'Milk'],\n",
    "        ['Bread', 'Diaper', 'Beer', 'Eggs'],\n",
    "        ['Milk', 'Diaper', 'Beer', 'Coke'],\n",
    "        ['Bread', 'Milk', 'Diaper', 'Beer'],\n",
    "        ['Bread', 'Milk', 'Diaper', 'Coke']\n",
    "    ]\n",
    "}\n",
    "\n",
    "# Step 1: Load into DataFrame\n",
    "df = pd.DataFrame(data)\n",
    "\n",
    "# Step 2: Convert to one-hot encoded format\n",
    "encoded_df = df['Items'].apply(lambda x: pd.Series(1, index=x)).fillna(0)\n",
    "print(\"One-Hot Encoded Data:\\n\", encoded_df)\n",
    "\n",
    "# Step 3: Apply Apriori (support ≥ 0.6)\n",
    "frequent_itemsets = apriori(encoded_df, min_support=0.6, use_colnames=True)\n",
    "print(\"\\nFrequent Itemsets:\\n\", frequent_itemsets)\n",
    "\n",
    "# Step 4: Generate association rules (confidence ≥ 0.7)\n",
    "rules = association_rules(frequent_itemsets, metric=\"confidence\", min_threshold=0.7)\n",
    "print(\"\\nAssociation Rules:\\n\", rules[['antecedents', 'consequents', 'support', 'confidence', 'lift']])\n"
   ]
  }
 ],
 "metadata": {
  "kernelspec": {
   "display_name": "Python 3",
   "language": "python",
   "name": "python3"
  },
  "language_info": {
   "codemirror_mode": {
    "name": "ipython",
    "version": 3
   },
   "file_extension": ".py",
   "mimetype": "text/x-python",
   "name": "python",
   "nbconvert_exporter": "python",
   "pygments_lexer": "ipython3",
   "version": "3.12.5"
  }
 },
 "nbformat": 4,
 "nbformat_minor": 5
}
